{
 "cells": [
  {
   "cell_type": "markdown",
   "metadata": {
    "application/vnd.databricks.v1+cell": {
     "cellMetadata": {},
     "inputWidgets": {},
     "nuid": "4ea9b287-fa5d-46c9-b3b5-c89ce67bef69",
     "showTitle": false,
     "tableResultSettingsMap": {},
     "title": ""
    }
   },
   "source": [
    "---\n",
    "\n",
    "## \n",
    "- **Usage**: Optimized for automated workloads in production\n",
    "- **Management**: ephemeral, automatically provisioned by the Databricks job scheduler when job is triggered\n",
    "- **Termination**: Designed for a single purpose and terminate automatically and immediately after the job is completed\n",
    "- **Cost efficiency**: cost less than all purpose and warehouse. $0.20 per DBU for classic and $0.45 for serveless\n",
    "    https://www.databricks.com/product/pricing/lakeflow-jobs\n",
    "\n",
    "---"
   ]
  }
 ],
 "metadata": {
  "application/vnd.databricks.v1+notebook": {
   "computePreferences": null,
   "dashboards": [],
   "environmentMetadata": {
    "base_environment": "",
    "environment_version": "2"
   },
   "inputWidgetPreferences": null,
   "language": "python",
   "notebookMetadata": {
    "pythonIndentUnit": 4
   },
   "notebookName": "Jobs Cluster",
   "widgets": {}
  },
  "language_info": {
   "name": "python"
  }
 },
 "nbformat": 4,
 "nbformat_minor": 0
}
