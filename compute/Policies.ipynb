{
 "cells": [
  {
   "cell_type": "markdown",
   "metadata": {
    "application/vnd.databricks.v1+cell": {
     "cellMetadata": {},
     "inputWidgets": {},
     "nuid": "42ea803d-a219-45b3-89f1-77748cb2481c",
     "showTitle": false,
     "tableResultSettingsMap": {},
     "title": ""
    }
   },
   "source": [
    "### Unrestricted\n",
    "- Full control over the cluster's configuration"
   ]
  },
  {
   "cell_type": "markdown",
   "metadata": {
    "application/vnd.databricks.v1+cell": {
     "cellMetadata": {},
     "inputWidgets": {},
     "nuid": "1783fd0a-faf5-4a2a-aaab-af57e294eff1",
     "showTitle": false,
     "tableResultSettingsMap": {},
     "title": ""
    }
   },
   "source": [
    "### Single Node\n",
    "- Driver node only\n",
    "- Driver handles bother driver and worker responsabilities\n",
    "- Best for python only or small datasets\n",
    "- Consume fewer resources"
   ]
  },
  {
   "cell_type": "markdown",
   "metadata": {
    "application/vnd.databricks.v1+cell": {
     "cellMetadata": {},
     "inputWidgets": {},
     "nuid": "ab95a39c-0408-4763-8d91-6086f0bffd20",
     "showTitle": false,
     "tableResultSettingsMap": {},
     "title": ""
    }
   },
   "source": [
    "### Multi Node\n",
    "- one driver and multiple workers\n",
    "- parallel processing\n",
    "- Larger datasets and conplex processing tasks"
   ]
  },
  {
   "cell_type": "markdown",
   "metadata": {
    "application/vnd.databricks.v1+cell": {
     "cellMetadata": {},
     "inputWidgets": {},
     "nuid": "f4ae5f60-97bc-4d39-a465-e3ec50e9c1ce",
     "showTitle": false,
     "tableResultSettingsMap": {},
     "title": ""
    }
   },
   "source": [
    "### Access mode\n",
    "- Security mode\n",
    "#### Standard\n",
    "- USER_ISOLATION\n",
    "- Shared access mode\n",
    "- Allows multiple users to share the cluster simultaneosly\n",
    "- SQL and Python\n",
    "\n",
    "#### Single User mode\n",
    "- SINGLE_USER\n",
    "- Dedicated\n",
    "- Groups, service principal or users specific\n",
    "- resources are dedicated"
   ]
  },
  {
   "cell_type": "markdown",
   "metadata": {
    "application/vnd.databricks.v1+cell": {
     "cellMetadata": {},
     "inputWidgets": {},
     "nuid": "25d57a75-d937-4f03-8429-bbaba1c1ac3c",
     "showTitle": false,
     "tableResultSettingsMap": {},
     "title": ""
    }
   },
   "source": [
    "### DBR\n",
    "- preconfigured virtual machine image that includes specific versions of Apache Spark, Scala, Delta and other libraries\n",
    "- for production always use long-term support"
   ]
  },
  {
   "cell_type": "markdown",
   "metadata": {
    "application/vnd.databricks.v1+cell": {
     "cellMetadata": {},
     "inputWidgets": {},
     "nuid": "304b34b8-2665-4384-88df-f195d05d4272",
     "showTitle": false,
     "tableResultSettingsMap": {},
     "title": ""
    }
   },
   "source": [
    "\n",
    "### Photon\n",
    "- Query engine develop in C++\n",
    "- accelerate the execution of SQL queries\n",
    "- accelerate operations with many files\n",
    "- enhance overall performance\n",
    "- reduce query execution times\n",
    "- double the DBU cost"
   ]
  },
  {
   "cell_type": "markdown",
   "metadata": {
    "application/vnd.databricks.v1+cell": {
     "cellMetadata": {},
     "inputWidgets": {},
     "nuid": "2625bb9e-3d41-4d92-ae8e-31bd25602fd2",
     "showTitle": false,
     "tableResultSettingsMap": {},
     "title": ""
    }
   },
   "source": [
    "### Worker type\n",
    "- choose between pools and instance types provided by the cloud provider\n",
    "\n",
    "### Driver type\n",
    "- if empty same as worker\n",
    "- can be different but has to be the same archtecture"
   ]
  },
  {
   "cell_type": "markdown",
   "metadata": {
    "application/vnd.databricks.v1+cell": {
     "cellMetadata": {},
     "inputWidgets": {},
     "nuid": "483aef1b-167a-4a37-94e7-75d6c3cb86c2",
     "showTitle": false,
     "tableResultSettingsMap": {},
     "title": ""
    }
   },
   "source": [
    "### Number of workers\n",
    "- if autoscale is off\n",
    "- fixed number of workers\n",
    "- cluser always operates with the specified resources regardless of changes in workload\n",
    "\n",
    "### Min workers and Max workers\n",
    "- Enable autocaling on\n",
    "- dynamically adjusts the number of workers in this range based on cluster's workload\n",
    "- Enabled by default"
   ]
  },
  {
   "cell_type": "markdown",
   "metadata": {
    "application/vnd.databricks.v1+cell": {
     "cellMetadata": {},
     "inputWidgets": {},
     "nuid": "63f4160a-22a7-4f85-bf10-ce25fd982ab7",
     "showTitle": false,
     "tableResultSettingsMap": {},
     "title": ""
    }
   },
   "source": [
    "### Auto-termination\n",
    "- Enabled by default (120 minutes)\n",
    "- After this period of inactivity the cluster automatically shuts down\n",
    "- prevents unnecessary changer for cluster that are no longer in use"
   ]
  },
  {
   "cell_type": "markdown",
   "metadata": {
    "application/vnd.databricks.v1+cell": {
     "cellMetadata": {},
     "inputWidgets": {},
     "nuid": "aafddd99-0dac-483e-8a32-09c89f9c99d9",
     "showTitle": false,
     "tableResultSettingsMap": {},
     "title": ""
    }
   },
   "source": [
    "### DBU\n",
    "- Databricks Units (DBUs) is a measure of processing capacity per hour, which helps estimate the costs associated with running the cluster"
   ]
  },
  {
   "cell_type": "markdown",
   "metadata": {
    "application/vnd.databricks.v1+cell": {
     "cellMetadata": {},
     "inputWidgets": {},
     "nuid": "64f94c96-6b94-453a-88fc-c7cff83f6ca7",
     "showTitle": false,
     "tableResultSettingsMap": {},
     "title": ""
    }
   },
   "source": [
    "> ℹ️ changes in luster configuration may require a restart of the cluster which interrupts running notebooks"
   ]
  }
 ],
 "metadata": {
  "application/vnd.databricks.v1+notebook": {
   "computePreferences": null,
   "dashboards": [],
   "environmentMetadata": {
    "base_environment": "",
    "environment_version": "2"
   },
   "inputWidgetPreferences": null,
   "language": "python",
   "notebookMetadata": {
    "pythonIndentUnit": 4
   },
   "notebookName": "Policies",
   "widgets": {}
  },
  "language_info": {
   "name": "python"
  }
 },
 "nbformat": 4,
 "nbformat_minor": 0
}
