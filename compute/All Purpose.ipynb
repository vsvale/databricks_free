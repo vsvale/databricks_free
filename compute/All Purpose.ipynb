{
 "cells": [
  {
   "cell_type": "markdown",
   "metadata": {
    "application/vnd.databricks.v1+cell": {
     "cellMetadata": {},
     "inputWidgets": {},
     "nuid": "fd38c0ce-ff45-4072-8ac4-779a574e2883",
     "showTitle": false,
     "tableResultSettingsMap": {},
     "title": ""
    }
   },
   "source": [
    "---\n",
    "\n",
    "## \n",
    "- **Usage**: Interactive development and ad hoc analysis\n",
    "- **Management**: Manged by the user via UI, CLI or API REST\n",
    "- **Termination**: Manual or Auto-termination after inactivity. 120 min (default), 10 min (minimun)\n",
    "- **Cost efficiency**: cost more to run when compared to job and sql warehouse pro. $0.65 per DBU classic and $0.95 per DBU serveless \n",
    "    https://www.databricks.com/product/pricing/datascience-ml\n",
    "\n",
    "---"
   ]
  },
  {
   "cell_type": "code",
   "execution_count": 0,
   "metadata": {
    "application/vnd.databricks.v1+cell": {
     "cellMetadata": {
      "byteLimit": 2048000,
      "rowLimit": 10000
     },
     "inputWidgets": {},
     "nuid": "7ef5c1dd-42b7-4579-9808-e6069445d9ac",
     "showTitle": true,
     "tableResultSettingsMap": {},
     "title": "create all purpose cluster"
    }
   },
   "outputs": [],
   "source": [
    "from databricks.sdk import WorkspaceClient\n",
    "\n",
    "w = WorkspaceClient()\n",
    "\n",
    "print(\"Attempting to create cluster. Please wait...\")\n",
    "\n",
    "c = w.clusters.create_and_wait(\n",
    "  cluster_name             = 'my-cluster',\n",
    "  spark_version            = '13.3.x-scala2.12',\n",
    "  node_type_id             = 'i3.xlarge',\n",
    "  autotermination_minutes  = 15,\n",
    "  num_workers              = 1\n",
    ")\n",
    "\n",
    "print(f\"The cluster is now ready at \" \\\n",
    "      f\"{w.config.host}#setting/clusters/{c.cluster_id}/configuration\\n\")"
   ]
  },
  {
   "cell_type": "code",
   "execution_count": 0,
   "metadata": {
    "application/vnd.databricks.v1+cell": {
     "cellMetadata": {
      "byteLimit": 2048000,
      "rowLimit": 10000
     },
     "inputWidgets": {},
     "nuid": "9cd51f71-3b4b-4549-b146-423d8913bc30",
     "showTitle": true,
     "tableResultSettingsMap": {},
     "title": "list all all purpose cluster"
    }
   },
   "outputs": [],
   "source": [
    "from databricks.sdk import WorkspaceClient\n",
    "\n",
    "w = WorkspaceClient()\n",
    " \n",
    "for c in w.clusters.list():\n",
    "  print(c.cluster_name)"
   ]
  },
  {
   "cell_type": "code",
   "execution_count": 0,
   "metadata": {
    "application/vnd.databricks.v1+cell": {
     "cellMetadata": {},
     "inputWidgets": {},
     "nuid": "037b53b0-0a90-4032-9249-07ab7dfd2091",
     "showTitle": true,
     "tableResultSettingsMap": {},
     "title": "Identify cost of all purpose clusters this month vs last month"
    }
   },
   "outputs": [],
   "source": []
  },
  {
   "cell_type": "code",
   "execution_count": 0,
   "metadata": {
    "application/vnd.databricks.v1+cell": {
     "cellMetadata": {
      "byteLimit": 2048000,
      "implicitDf": true,
      "rowLimit": 10000
     },
     "inputWidgets": {},
     "nuid": "5fb87f35-511f-4320-804c-cf6da0d8c65b",
     "showTitle": false,
     "tableResultSettingsMap": {},
     "title": ""
    }
   },
   "outputs": [],
   "source": [
    "%sql\n",
    "select * from system.compute.clusters"
   ]
  },
  {
   "cell_type": "code",
   "execution_count": 0,
   "metadata": {
    "application/vnd.databricks.v1+cell": {
     "cellMetadata": {
      "byteLimit": 2048000,
      "rowLimit": 10000
     },
     "inputWidgets": {},
     "nuid": "5fc7a86f-eafe-40a7-b779-625c90e9108d",
     "showTitle": false,
     "tableResultSettingsMap": {},
     "title": ""
    }
   },
   "outputs": [],
   "source": [
    "from dbruntime.databricks_repl_context import get_context\n",
    "workspace_url = \"https://\" + spark.conf.get(\"spark.databricks.workspaceUrl\")\n",
    "workspace_id = get_context().workspaceId"
   ]
  },
  {
   "cell_type": "code",
   "execution_count": 0,
   "metadata": {
    "application/vnd.databricks.v1+cell": {
     "cellMetadata": {
      "byteLimit": 2048000,
      "implicitDf": true,
      "rowLimit": 10000
     },
     "inputWidgets": {},
     "nuid": "b2008973-5b6f-4c4a-ac21-310c4a3a47b7",
     "showTitle": false,
     "tableResultSettingsMap": {
      "0": {
       "dataGridStateBlob": "{\"version\":1,\"tableState\":{\"columnPinning\":{\"left\":[\"#row_number#\"],\"right\":[]},\"columnSizing\":{\"workspace_url\":316},\"columnVisibility\":{}},\"settings\":{\"columns\":{\"workspace_url\":{\"format\":{\"preset\":\"string-preset-url\"}}}},\"syncTimestamp\":1753744042218}",
       "filterBlob": null,
       "queryPlanFiltersBlob": null,
       "tableResultIndex": 0
      }
     },
     "title": ""
    }
   },
   "outputs": [],
   "source": [
    "\n",
    "%sql\n",
    "SET VARIABLE workspaceid = :workspace_id;\n",
    "SELECT * FROM system.access.workspaces_latest \n",
    "where workspace_id = workspaceid;\n"
   ]
  },
  {
   "cell_type": "code",
   "execution_count": 0,
   "metadata": {
    "application/vnd.databricks.v1+cell": {
     "cellMetadata": {},
     "inputWidgets": {},
     "nuid": "e572fa6d-2c06-4542-ae4f-025c46d1ad2b",
     "showTitle": false,
     "tableResultSettingsMap": {},
     "title": ""
    }
   },
   "outputs": [],
   "source": [
    "from databricks.sdk import WorkspaceClient\n",
    "import yaml\n",
    "import os"
   ]
  },
  {
   "cell_type": "code",
   "execution_count": 0,
   "metadata": {
    "application/vnd.databricks.v1+cell": {
     "cellMetadata": {},
     "inputWidgets": {},
     "nuid": "cfab0d5e-8139-4376-b05a-da527407179b",
     "showTitle": false,
     "tableResultSettingsMap": {},
     "title": ""
    }
   },
   "outputs": [],
   "source": []
  },
  {
   "cell_type": "code",
   "execution_count": 0,
   "metadata": {
    "application/vnd.databricks.v1+cell": {
     "cellMetadata": {},
     "inputWidgets": {},
     "nuid": "fce54bea-0288-490e-bd84-8302fd9f87f5",
     "showTitle": true,
     "tableResultSettingsMap": {},
     "title": "most used node types to create pools"
    }
   },
   "outputs": [],
   "source": [
    "with node_counts as\n",
    "(SELECT\n",
    "    driver_node_type as node_type, 1 as node_count\n",
    "  FROM\n",
    "    system.compute.clusters\n",
    "WHERE \n",
    "workspace_id = '986111815307787'\n",
    "UNION ALL\n",
    "SELECT\n",
    "    worker_node_type as node_type, coalesce(worker_count,max_autoscale_workers) as node_count\n",
    "  FROM\n",
    "    system.compute.clusters\n",
    "WHERE workspace_id = '986111815307787'\n",
    ")\n",
    "select node_type, sum(node_count) as count\n",
    "FROM\n",
    "    node_counts\n",
    "GROUP BY ALL\n",
    "ORDER BY count DESC"
   ]
  },
  {
   "cell_type": "code",
   "execution_count": 0,
   "metadata": {
    "application/vnd.databricks.v1+cell": {
     "cellMetadata": {},
     "inputWidgets": {},
     "nuid": "a9c4c78d-27c4-4748-8323-ab4dcf681bc5",
     "showTitle": true,
     "tableResultSettingsMap": {},
     "title": "Cluster Policies"
    }
   },
   "outputs": [],
   "source": []
  }
 ],
 "metadata": {
  "application/vnd.databricks.v1+notebook": {
   "computePreferences": null,
   "dashboards": [],
   "environmentMetadata": {
    "base_environment": "",
    "environment_version": "2"
   },
   "inputWidgetPreferences": null,
   "language": "python",
   "notebookMetadata": {
    "mostRecentlyExecutedCommandWithImplicitDF": {
     "commandId": 7789512675477316,
     "dataframes": [
      "_sqldf"
     ]
    },
    "pythonIndentUnit": 4
   },
   "notebookName": "All Purpose",
   "widgets": {
    "workspace_id": {
     "currentValue": "",
     "nuid": "cb27d911-1671-4d98-a758-3967606a5db4",
     "typedWidgetInfo": {
      "autoCreated": true,
      "defaultValue": "",
      "label": null,
      "name": "workspace_id",
      "options": {
       "widgetDisplayType": "Text",
       "validationRegex": null
      },
      "parameterDataType": "String"
     },
     "widgetInfo": {
      "widgetType": "text",
      "defaultValue": "",
      "label": null,
      "name": "workspace_id",
      "options": {
       "widgetType": "text",
       "autoCreated": true,
       "validationRegex": null
      }
     }
    }
   }
  },
  "language_info": {
   "name": "python"
  }
 },
 "nbformat": 4,
 "nbformat_minor": 0
}
