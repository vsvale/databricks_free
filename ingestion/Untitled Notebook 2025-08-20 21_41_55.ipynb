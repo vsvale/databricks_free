{
 "cells": [
  {
   "cell_type": "markdown",
   "metadata": {
    "application/vnd.databricks.v1+cell": {
     "cellMetadata": {},
     "inputWidgets": {},
     "nuid": "5c1dbb87-d08b-4a3f-82f2-13e9d184703f",
     "showTitle": false,
     "tableResultSettingsMap": {},
     "title": ""
    }
   },
   "source": [
    "# Full Load\n",
    "- Data provider doesnt define any attribute that helps to detect the rows that have changed since last ingestion\n",
    "- Extract and Load, no transformation\n",
    "- Passthrough jobs\n",
    "- Use auto-scaling to reduce data variability impact\n",
    "- consumers must wait overwrites to avoid read incomplete data\n",
    "- "
   ]
  },
  {
   "cell_type": "code",
   "execution_count": 0,
   "metadata": {
    "application/vnd.databricks.v1+cell": {
     "cellMetadata": {
      "byteLimit": 2048000,
      "implicitDf": true,
      "rowLimit": 10000
     },
     "inputWidgets": {},
     "nuid": "7c61137b-0d28-4777-9dbb-e09c9482d410",
     "showTitle": false,
     "tableResultSettingsMap": {},
     "title": ""
    }
   },
   "outputs": [],
   "source": [
    "%sql\n",
    "SELECT is_account_group_member(\"metastore_admin\")"
   ]
  },
  {
   "cell_type": "code",
   "execution_count": 0,
   "metadata": {
    "application/vnd.databricks.v1+cell": {
     "cellMetadata": {},
     "inputWidgets": {},
     "nuid": "244a5dff-41dc-494a-bfc5-d24dc8ef9c6e",
     "showTitle": false,
     "tableResultSettingsMap": {},
     "title": ""
    }
   },
   "outputs": [],
   "source": [
    "%sql\n",
    "CREATE FUNCTION dataops.libs.create_catalog(catalog_name STRING)\n",
    "  RETURNS STRING\n",
    "  LANGUAGE PYTHON\n",
    "  AS $$\n",
    "    catalog_name = catalog_name.replace(\"-\", \"_\")\n",
    "    if catalog_name not ends with \"_prd\", \"\"\n",
    "    if catalog_name not in spark.catalog.listDatabases():\n",
    "      spark.sql(f\"CREATE CATALOG IF NOT EXISTS {catalog_name}\")\n",
    "    def create_catalog(catalog_name):\n",
    "      return \"Hello \" + name + \"!\"\n",
    "\n",
    "    return greet(s) if s else None\n",
    "  $$"
   ]
  },
  {
   "cell_type": "code",
   "execution_count": 0,
   "metadata": {
    "application/vnd.databricks.v1+cell": {
     "cellMetadata": {},
     "inputWidgets": {},
     "nuid": "9386a857-dc91-444a-876a-8e9f7bdc8b3e",
     "showTitle": false,
     "tableResultSettingsMap": {},
     "title": ""
    }
   },
   "outputs": [],
   "source": [
    "%sql\n",
    "CREATE EXTERNAL VOLUME my_catalog.my_schema.my_external_volume\n",
    "    LOCATION 's3://my-bucket/my-location/my-path'\n",
    "    COMMENT 'This is my example external volume on S3'"
   ]
  }
 ],
 "metadata": {
  "application/vnd.databricks.v1+notebook": {
   "computePreferences": {
    "hardware": {
     "accelerator": null,
     "gpuPoolId": null,
     "memory": null
    }
   },
   "dashboards": [],
   "environmentMetadata": {
    "base_environment": "",
    "environment_version": "3"
   },
   "inputWidgetPreferences": null,
   "language": "python",
   "notebookMetadata": {
    "mostRecentlyExecutedCommandWithImplicitDF": {
     "commandId": 4779652801008235,
     "dataframes": [
      "_sqldf"
     ]
    },
    "pythonIndentUnit": 4
   },
   "notebookName": "Untitled Notebook 2025-08-20 21_41_55",
   "widgets": {}
  },
  "language_info": {
   "name": "python"
  }
 },
 "nbformat": 4,
 "nbformat_minor": 0
}
