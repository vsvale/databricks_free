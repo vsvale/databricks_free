{
 "cells": [
  {
   "cell_type": "code",
   "execution_count": 0,
   "metadata": {
    "application/vnd.databricks.v1+cell": {
     "cellMetadata": {},
     "inputWidgets": {},
     "nuid": "35714a89-1b44-423d-892d-bbd77f42bee3",
     "showTitle": true,
     "tableResultSettingsMap": {},
     "title": "verify if"
    }
   },
   "outputs": [],
   "source": []
  },
  {
   "cell_type": "code",
   "execution_count": 0,
   "metadata": {
    "application/vnd.databricks.v1+cell": {
     "cellMetadata": {},
     "inputWidgets": {},
     "nuid": "b33a7023-6b14-4a4a-97ac-06038c12ae0c",
     "showTitle": true,
     "tableResultSettingsMap": {},
     "title": "create managed catalog"
    }
   },
   "outputs": [],
   "source": [
    "%sql\n",
    "CREATE FUNCTION dataops.libs.create_catalog(catalog_name STRING)\n",
    "  RETURNS STRING\n",
    "  LANGUAGE PYTHON\n",
    "  AS $$\n",
    "    catalog_name = catalog_name.replace(\"-\", \"_\")\n",
    "    if catalog_name not ends with \"_prd\", \"\"\n",
    "    if catalog_name not in spark.catalog.listDatabases():\n",
    "      spark.sql(f\"CREATE CATALOG IF NOT EXISTS {catalog_name}\")\n",
    "    def create_catalog(catalog_name):\n",
    "      return \"Hello \" + name + \"!\"\n",
    "\n",
    "    return greet(s) if s else None\n",
    "  $$"
   ]
  },
  {
   "cell_type": "code",
   "execution_count": 0,
   "metadata": {
    "application/vnd.databricks.v1+cell": {
     "cellMetadata": {},
     "inputWidgets": {},
     "nuid": "486f33de-ed34-46aa-9720-f137ee476739",
     "showTitle": true,
     "tableResultSettingsMap": {},
     "title": "verify if catalog exists"
    }
   },
   "outputs": [],
   "source": [
    "def create_catalog(catalog_name,spark=spark):\n",
    "  catalog_name = catalog_name.replace(\"-\", \"_\")\n",
    "  spark.sql(f\"CREATE CATALOG IF NOT EXISTS {catalog_name}\")\n",
    "  spark.sql(f)\n",
    "  spark.sql(f\"USE CATALOG {catalog_name}\")"
   ]
  },
  {
   "cell_type": "code",
   "execution_count": 0,
   "metadata": {
    "application/vnd.databricks.v1+cell": {
     "cellMetadata": {},
     "inputWidgets": {},
     "nuid": "d6d7a247-1d23-4e30-965f-2f4b21cfe23f",
     "showTitle": true,
     "tableResultSettingsMap": {},
     "title": "list all catalogs"
    }
   },
   "outputs": [],
   "source": []
  },
  {
   "cell_type": "code",
   "execution_count": 0,
   "metadata": {
    "application/vnd.databricks.v1+cell": {
     "cellMetadata": {},
     "inputWidgets": {},
     "nuid": "0d5cfa49-90b6-49f5-971a-384f0a82edfc",
     "showTitle": false,
     "tableResultSettingsMap": {},
     "title": ""
    }
   },
   "outputs": [],
   "source": []
  }
 ],
 "metadata": {
  "application/vnd.databricks.v1+notebook": {
   "computePreferences": null,
   "dashboards": [],
   "environmentMetadata": {
    "base_environment": "",
    "environment_version": "2"
   },
   "inputWidgetPreferences": null,
   "language": "python",
   "notebookMetadata": {
    "pythonIndentUnit": 4
   },
   "notebookName": "dataops functions",
   "widgets": {}
  },
  "language_info": {
   "name": "python"
  }
 },
 "nbformat": 4,
 "nbformat_minor": 0
}
