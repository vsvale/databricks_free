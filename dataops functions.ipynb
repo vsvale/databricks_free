{
 "cells": [
  {
   "cell_type": "code",
   "execution_count": 0,
   "metadata": {
    "application/vnd.databricks.v1+cell": {
     "cellMetadata": {
      "byteLimit": 2048000,
      "rowLimit": 10000
     },
     "inputWidgets": {},
     "nuid": "71d34b0a-9ae4-4e8c-b7b9-39bb2fbf2432",
     "showTitle": false,
     "tableResultSettingsMap": {},
     "title": ""
    }
   },
   "outputs": [],
   "source": [
    "catalog_name = \"dataops_prd\"\n",
    "schema_name = \"libs\""
   ]
  },
  {
   "cell_type": "code",
   "execution_count": 0,
   "metadata": {
    "application/vnd.databricks.v1+cell": {
     "cellMetadata": {},
     "inputWidgets": {},
     "nuid": "35714a89-1b44-423d-892d-bbd77f42bee3",
     "showTitle": true,
     "tableResultSettingsMap": {},
     "title": "verify if"
    }
   },
   "outputs": [],
   "source": []
  },
  {
   "cell_type": "code",
   "execution_count": 0,
   "metadata": {
    "application/vnd.databricks.v1+cell": {
     "cellMetadata": {},
     "inputWidgets": {},
     "nuid": "b33a7023-6b14-4a4a-97ac-06038c12ae0c",
     "showTitle": true,
     "tableResultSettingsMap": {},
     "title": "create managed catalog"
    }
   },
   "outputs": [],
   "source": [
    "%sql\n",
    "CREATE FUNCTION dataops.libs.create_catalog(catalog_name STRING)\n",
    "  RETURNS STRING\n",
    "  LANGUAGE PYTHON\n",
    "  AS $$\n",
    "    catalog_name = catalog_name.replace(\"-\", \"_\")\n",
    "    if catalog_name not ends with \"_prd\", \"\"\n",
    "    if catalog_name not in spark.catalog.listDatabases():\n",
    "      spark.sql(f\"CREATE CATALOG IF NOT EXISTS {catalog_name}\")\n",
    "    def create_catalog(catalog_name):\n",
    "      return \"Hello \" + name + \"!\"\n",
    "\n",
    "    return greet(s) if s else None\n",
    "  $$"
   ]
  },
  {
   "cell_type": "code",
   "execution_count": 0,
   "metadata": {
    "application/vnd.databricks.v1+cell": {
     "cellMetadata": {},
     "inputWidgets": {},
     "nuid": "486f33de-ed34-46aa-9720-f137ee476739",
     "showTitle": true,
     "tableResultSettingsMap": {},
     "title": "verify if catalog exists"
    }
   },
   "outputs": [],
   "source": [
    "def create_catalog(catalog_name,spark=spark):\n",
    "  catalog_name = catalog_name.replace(\"-\", \"_\")\n",
    "  spark.sql(f\"CREATE CATALOG IF NOT EXISTS {catalog_name}\")\n",
    "  spark.sql(f)\n",
    "  spark.sql(f\"USE CATALOG {catalog_name}\")"
   ]
  },
  {
   "cell_type": "code",
   "execution_count": 0,
   "metadata": {
    "application/vnd.databricks.v1+cell": {
     "cellMetadata": {},
     "inputWidgets": {},
     "nuid": "d6d7a247-1d23-4e30-965f-2f4b21cfe23f",
     "showTitle": true,
     "tableResultSettingsMap": {},
     "title": "list all catalogs"
    }
   },
   "outputs": [],
   "source": []
  },
  {
   "cell_type": "code",
   "execution_count": 0,
   "metadata": {
    "application/vnd.databricks.v1+cell": {
     "cellMetadata": {
      "byteLimit": 2048000,
      "rowLimit": 10000
     },
     "inputWidgets": {},
     "nuid": "55aebecf-2df7-492d-837e-8e4a379bea8d",
     "showTitle": true,
     "tableResultSettingsMap": {},
     "title": "cria tabela para identificar current workspace"
    }
   },
   "outputs": [],
   "source": [
    "def create_curr_wksp_tb(catalog_name:str, schema_name:str):\n",
    "    from dbruntime.databricks_repl_context import get_context\n",
    "    from IPython.display import display, HTML\n",
    "\n",
    "    id = get_context().workspaceId\n",
    "    workspace_url = spark.conf.get('spark.databricks.workspaceUrl')\n",
    "    catalog_name = catalog_name.replace(\"-\", \"_\")\n",
    "    schema_name = schema_name.replace(\"-\", \"_\")\n",
    "    if not catalog_name.endswith(\"_prd\"):\n",
    "        catalog_name = catalog_name + \"_prd\"\n",
    "    if catalog_name not in spark.sql(\"SHOW CATALOGS\").selectExpr(\"collect_list(catalog)\").first()[0]:\n",
    "        spark.sql(f\"CREATE CATALOG IF NOT EXISTS {catalog_name}\")\n",
    "    spark.sql(f\"USE CATALOG {catalog_name}\")\n",
    "    if schema_name not in spark.sql(\"SHOW SCHEMAS\").selectExpr(\"collect_list(databaseName)\").first()[0]:\n",
    "        spark.sql(f\"CREATE SCHEMA IF NOT EXISTS {catalog_name}.{schema_name}\")\n",
    "    spark.sql(f\"CREATE OR REPLACE TABLE {catalog_name}.{schema_name}.current_workspace AS SELECT {id} AS workspace_id, '{workspace_url}' AS workspace_url\")\n",
    "    html_link = f'<a href=\"https://{workspace_url}/explore/data/{catalog_name}/{schema_name}/current_workspace\" target=\"_blank\">Table {catalog_name}.{schema_name}.current_workspace created</a>'\n",
    "    display(HTML(html_link))\n",
    "create_curr_wksp_tb(\"dataops\",\"libs\")"
   ]
  },
  {
   "cell_type": "code",
   "execution_count": 0,
   "metadata": {
    "application/vnd.databricks.v1+cell": {
     "cellMetadata": {
      "byteLimit": 2048000,
      "implicitDf": true,
      "rowLimit": 10000
     },
     "inputWidgets": {},
     "nuid": "4e2c272f-7061-4adb-a3c1-58e2d6f58a7d",
     "showTitle": false,
     "tableResultSettingsMap": {},
     "title": ""
    }
   },
   "outputs": [],
   "source": [
    "%sql\n",
    "CREATE OR REPLACE FUNCTION dataops_prd.libs.get_workspace_id()\n",
    "RETURNS STRING\n",
    "COMMENT 'Returns current workspace id'\n",
    "LANGUAGE SQL\n",
    "RETURN \n",
    "SELECT workspace_id FROM dataops_prd.libs.current_workspace LIMIT 1\n",
    ";"
   ]
  },
  {
   "cell_type": "code",
   "execution_count": 0,
   "metadata": {
    "application/vnd.databricks.v1+cell": {
     "cellMetadata": {
      "byteLimit": 2048000,
      "implicitDf": true,
      "rowLimit": 10000
     },
     "inputWidgets": {},
     "nuid": "24ddb08b-6195-4df6-94ae-afcb67f05c20",
     "showTitle": false,
     "tableResultSettingsMap": {},
     "title": ""
    }
   },
   "outputs": [],
   "source": [
    "%sql\n",
    "SELECT wl.* FROM dataops_prd.libs.current_workspace cw\n",
    "inner join system.access.workspaces_latest wl on cw.workspace_id = wl.workspace_id"
   ]
  }
 ],
 "metadata": {
  "application/vnd.databricks.v1+notebook": {
   "computePreferences": {
    "hardware": {
     "accelerator": null,
     "gpuPoolId": null,
     "memory": null
    }
   },
   "dashboards": [],
   "environmentMetadata": {
    "base_environment": "",
    "environment_version": "3"
   },
   "inputWidgetPreferences": null,
   "language": "python",
   "notebookMetadata": {
    "mostRecentlyExecutedCommandWithImplicitDF": {
     "commandId": 8769107896723889,
     "dataframes": [
      "_sqldf"
     ]
    },
    "pythonIndentUnit": 4
   },
   "notebookName": "dataops functions",
   "widgets": {}
  },
  "language_info": {
   "name": "python"
  }
 },
 "nbformat": 4,
 "nbformat_minor": 0
}
