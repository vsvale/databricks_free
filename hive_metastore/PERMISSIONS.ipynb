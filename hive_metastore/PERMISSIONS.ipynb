{
 "cells": [
  {
   "cell_type": "code",
   "execution_count": 0,
   "metadata": {
    "application/vnd.databricks.v1+cell": {
     "cellMetadata": {},
     "inputWidgets": {},
     "nuid": "946c2794-786a-4f14-8be5-8f7186db2ccf",
     "showTitle": true,
     "tableResultSettingsMap": {},
     "title": "DENY TO ALL WORKSPACE USERS"
    }
   },
   "outputs": [],
   "source": [
    "DENY ALL PRIVILEGES ON TABLE hive_catalog.db_collection.offers_preventivo_bkp TO `users`;"
   ]
  }
 ],
 "metadata": {
  "application/vnd.databricks.v1+notebook": {
   "computePreferences": null,
   "dashboards": [],
   "environmentMetadata": {
    "base_environment": "",
    "environment_version": "2"
   },
   "inputWidgetPreferences": null,
   "language": "python",
   "notebookMetadata": {
    "pythonIndentUnit": 4
   },
   "notebookName": "PERMISSIONS",
   "widgets": {}
  },
  "language_info": {
   "name": "python"
  }
 },
 "nbformat": 4,
 "nbformat_minor": 0
}
