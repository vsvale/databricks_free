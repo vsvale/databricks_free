{
 "cells": [
  {
   "cell_type": "markdown",
   "metadata": {
    "application/vnd.databricks.v1+cell": {
     "cellMetadata": {},
     "inputWidgets": {},
     "nuid": "d9b90df9-37f6-41dd-a9d5-45367c60b3ea",
     "showTitle": false,
     "tableResultSettingsMap": {},
     "title": ""
    }
   },
   "source": [
    "DENY TO ALL WORKSPACE USERS\n",
    "\n",
    "https://docs.databricks.com/aws/en/sql/language-manual/security-deny"
   ]
  },
  {
   "cell_type": "code",
   "execution_count": 0,
   "metadata": {
    "application/vnd.databricks.v1+cell": {
     "cellMetadata": {},
     "inputWidgets": {},
     "nuid": "946c2794-786a-4f14-8be5-8f7186db2ccf",
     "showTitle": true,
     "tableResultSettingsMap": {},
     "title": "DENY TO ALL WORKSPACE USERS"
    }
   },
   "outputs": [],
   "source": [
    "DENY ALL PRIVILEGES ON TABLE hive_catalog.db_collection.offers_preventivo_bkp TO `users`;"
   ]
  }
 ],
 "metadata": {
  "application/vnd.databricks.v1+notebook": {
   "computePreferences": null,
   "dashboards": [],
   "environmentMetadata": {
    "base_environment": "",
    "environment_version": "2"
   },
   "inputWidgetPreferences": null,
   "language": "python",
   "notebookMetadata": {
    "pythonIndentUnit": 4
   },
   "notebookName": "PERMISSIONS",
   "widgets": {}
  },
  "language_info": {
   "name": "python"
  }
 },
 "nbformat": 4,
 "nbformat_minor": 0
}
