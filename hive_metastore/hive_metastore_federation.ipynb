{
 "cells": [
  {
   "cell_type": "code",
   "execution_count": 0,
   "metadata": {
    "application/vnd.databricks.v1+cell": {
     "cellMetadata": {},
     "inputWidgets": {},
     "nuid": "98bf1130-db19-4fed-99cc-df7b5e9c06bb",
     "showTitle": true,
     "tableResultSettingsMap": {},
     "title": "reparar tabela quebrada"
    }
   },
   "outputs": [],
   "source": [
    "REPAIR TABLE legacy_hive_catalog.db_models.tb_modelos_consolidados_ds SYNC METADATA"
   ]
  }
 ],
 "metadata": {
  "application/vnd.databricks.v1+notebook": {
   "computePreferences": null,
   "dashboards": [],
   "environmentMetadata": {
    "base_environment": "",
    "environment_version": "2"
   },
   "inputWidgetPreferences": null,
   "language": "python",
   "notebookMetadata": {
    "pythonIndentUnit": 4
   },
   "notebookName": "hive_metastore_federation",
   "widgets": {}
  },
  "language_info": {
   "name": "python"
  }
 },
 "nbformat": 4,
 "nbformat_minor": 0
}
