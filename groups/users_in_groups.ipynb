{
 "cells": [
  {
   "cell_type": "code",
   "execution_count": 0,
   "metadata": {
    "application/vnd.databricks.v1+cell": {
     "cellMetadata": {
      "byteLimit": 2048000,
      "rowLimit": 10000
     },
     "inputWidgets": {},
     "nuid": "69a86376-36ff-4769-83cf-7ea830c1fe37",
     "showTitle": false,
     "tableResultSettingsMap": {},
     "title": ""
    }
   },
   "outputs": [],
   "source": [
    "from pyspark.sql.functions import lit\n",
    "\n",
    "df_groups = spark.sql(\"\"\"SHOW GROUPS\"\"\")\n",
    "\n",
    "df_users = spark.sql(\"\"\"SHOW USERS\"\"\")\n",
    "\n",
    "result = spark.createDataFrame([], \"name: string, directGroup: boolean, user: string\")\n",
    "for user in df_users.collect():\n",
    "    df_user_groups = spark.sql(f\"\"\"SHOW GROUPS WITH USER `{user.name}`\"\"\").withColumn(\"user\", lit(user.name))\n",
    "    result = result.unionAll(df_user_groups)\n",
    "\n",
    "result.write.mode(\"overwrite\").saveAsTable(\"dataops_prd.workspace.users_groups\")"
   ]
  }
 ],
 "metadata": {
  "application/vnd.databricks.v1+notebook": {
   "computePreferences": null,
   "dashboards": [],
   "environmentMetadata": {
    "base_environment": "",
    "environment_version": "3"
   },
   "inputWidgetPreferences": null,
   "language": "python",
   "notebookMetadata": {
    "pythonIndentUnit": 4
   },
   "notebookName": "users_in_groups",
   "widgets": {}
  },
  "language_info": {
   "name": "python"
  }
 },
 "nbformat": 4,
 "nbformat_minor": 0
}
