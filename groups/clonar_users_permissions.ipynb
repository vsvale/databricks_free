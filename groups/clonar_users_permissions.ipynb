{
 "cells": [
  {
   "cell_type": "code",
   "execution_count": 0,
   "metadata": {
    "application/vnd.databricks.v1+cell": {
     "cellMetadata": {},
     "inputWidgets": {},
     "nuid": "b8adc1d7-54e7-4203-a7ba-d5bcbbb0cabb",
     "showTitle": false,
     "tableResultSettingsMap": {},
     "title": ""
    }
   },
   "outputs": [],
   "source": [
    "%sql\n",
    "SHOW GROUPS WITH USER `rodrigo.sertori@br.experian.com`;"
   ]
  },
  {
   "cell_type": "code",
   "execution_count": 0,
   "metadata": {
    "application/vnd.databricks.v1+cell": {
     "cellMetadata": {},
     "inputWidgets": {},
     "nuid": "df9689ab-8822-4ca9-9c31-a7e2a6e7ea8b",
     "showTitle": false,
     "tableResultSettingsMap": {},
     "title": ""
    }
   },
   "outputs": [],
   "source": [
    "%sql\n",
    "SHOW GROUPS WITH PRINCIPAL `077d46f5-8a77-4b3f-94af-43f1941e539b`;"
   ]
  },
  {
   "cell_type": "code",
   "execution_count": 0,
   "metadata": {
    "application/vnd.databricks.v1+cell": {
     "cellMetadata": {},
     "inputWidgets": {},
     "nuid": "7ad54757-7cd9-4c59-9566-eb557cc0a65a",
     "showTitle": false,
     "tableResultSettingsMap": {},
     "title": ""
    }
   },
   "outputs": [],
   "source": [
    "from_user = 'bruno.pelence@experian.com'\n",
    "to_user = 'marcos.borgert@experian.com'"
   ]
  },
  {
   "cell_type": "code",
   "execution_count": 0,
   "metadata": {
    "application/vnd.databricks.v1+cell": {
     "cellMetadata": {},
     "inputWidgets": {},
     "nuid": "a02d8ac9-12bb-4be8-860f-a291bdaf8fa8",
     "showTitle": false,
     "tableResultSettingsMap": {},
     "title": ""
    }
   },
   "outputs": [],
   "source": [
    "groups = [row['name'] for row in spark.sql(f'SHOW GROUPS WITH USER `{from_user}`').select('name').distinct().collect()]\n",
    "\n",
    "for group in groups:\n",
    "    spark.sql(f'ALTER GROUP `{group}` ADD USER `{to_user}`')\n",
    "\n",
    "assert set([row['name'] for row in spark.sql(f'SHOW GROUPS WITH USER `{from_user}`').select('name').distinct().collect()]) == set([row['name'] for row in spark.sql(f'SHOW GROUPS WITH USER `{to_user}`').select('name').distinct().collect()])"
   ]
  }
 ],
 "metadata": {
  "application/vnd.databricks.v1+notebook": {
   "computePreferences": null,
   "dashboards": [],
   "environmentMetadata": {
    "base_environment": "",
    "environment_version": "3"
   },
   "inputWidgetPreferences": null,
   "language": "python",
   "notebookMetadata": {
    "pythonIndentUnit": 4
   },
   "notebookName": "clonar_users_permissions",
   "widgets": {}
  },
  "language_info": {
   "name": "python"
  }
 },
 "nbformat": 4,
 "nbformat_minor": 0
}
